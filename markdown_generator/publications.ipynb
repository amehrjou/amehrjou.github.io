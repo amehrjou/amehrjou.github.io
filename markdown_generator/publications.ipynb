{
 "cells": [
  {
   "cell_type": "markdown",
   "metadata": {},
   "source": [
    "# Publications markdown generator for academicpages\n",
    "\n",
    "Takes a TSV of publications with metadata and converts them for use with [academicpages.github.io](academicpages.github.io). This is an interactive Jupyter notebook ([see more info here](http://jupyter-notebook-beginner-guide.readthedocs.io/en/latest/what_is_jupyter.html)). The core python code is also in `publications.py`. Run either from the `markdown_generator` folder after replacing `publications.tsv` with one containing your data.\n",
    "\n",
    "TODO: Make this work with BibTex and other databases of citations, rather than Stuart's non-standard TSV format and citation style.\n"
   ]
  },
  {
   "cell_type": "markdown",
   "metadata": {},
   "source": [
    "## Data format\n",
    "\n",
    "The TSV needs to have the following columns: pub_date, title, venue, excerpt, citation, site_url, and paper_url, with a header at the top. \n",
    "\n",
    "- `excerpt` and `paper_url` can be blank, but the others must have values. \n",
    "- `pub_date` must be formatted as YYYY-MM-DD.\n",
    "- `url_slug` will be the descriptive part of the .md file and the permalink URL for the page about the paper. The .md file will be `YYYY-MM-DD-[url_slug].md` and the permalink will be `https://[yourdomain]/publications/YYYY-MM-DD-[url_slug]`\n",
    "\n",
    "This is how the raw file looks (it doesn't look pretty, use a spreadsheet or other program to edit and create)."
   ]
  },
  {
   "cell_type": "code",
   "execution_count": 170,
   "metadata": {},
   "outputs": [
    {
     "name": "stdout",
     "output_type": "stream",
     "text": [
      "pub_date\ttitle\tvenue\texcerpt\tcitation\turl_slug\tpaper_url\r",
      "\r\n",
      "2013-02-13\tAutomatic malaria diagnosis system\tICRoM\tMalaria Diagnosis is normally accomplished by visual microscopy which is time consuming and offers low accuracy because of the operator\\'s tiredness and lack of profession in job. To overcome this liability, we designed an automatic system which is able to take photos of blood smears automatically in high rate using motorized sophisticated microscope. After gathering enough samples for microscopy, Image processing task is launched which is the core of our job in this paper. Finally, results of the whole process are reported to physician for prescribing the best cure. Because of the importance of correct diagnosis stage of Malaria and parasite type in curing process, this system can attract a great deal of attention in Malaria Diagnosis task.\t\"Mehrjou, Arash, Tooraj Abbasian, and Morteza Izadi. \"\"Automatic malaria diagnosis system.\"\" In 2013 First RSI/ISM International Conference on Robotics and Mechatronics (ICRoM), pp. 205-211. IEEE, 2013.\"\tmalaria\thttps://tinyurl.com/snnf62t\r",
      "\r\n",
      "2019-10-22\tKernel-Guided Training of Implicit Generative Models with Stability Guarantees\tArxiv\tThe modern implicit generative models such as generative adversarial networks (GANs) are generally known to suffer from issues such as instability, uninterpretability, and difficulty in assessing their performance. If we see these implicit models as dynamical systems, some of these issues are caused by being unable to control their behavior in a meaningful way during the course of training. In this work, we propose a theoretically grounded method to guide the training trajectories of GANs by augmenting the GAN loss function with a kernel-based regularization term that controls local and global discrepancies between the model and true distributions. This control signal allows us to inject prior knowledge into the model. We provide theoretical guarantees on the stability of the resulting dynamical system and demonstrate different aspects of it via a wide range of experiments.\t\"Mehrjou, Arash. (2009). &quot;Kernel-Guided Training of Implicit Generative Models with Stability Guarantees.&quot; <i>Arxiv</i>.\"\tglocad\thttps://arxiv.org/abs/1910.14428\r",
      "\r\n",
      "2016-01-01\tImproved Bayesian information criterion for mixture model selection\tPattern Recognition Letters\tIn this paper, we propose a mixture model selection criterion obtained from the Laplace approximation of marginal likelihood. Our approximation to the marginal likelihood is more accurate than Bayesian information criterion (BIC), especially for small sample size. We show experimentally that our criterion works as good as other well-known criteria like BIC and minimum message length (MML) for large sample size and significantly outperforms them when fewer data points are available.\t\"Mehrjou, Arash, Reshad Hosseini, and Babak Nadjar Araabi. \"\"Improved Bayesian information criterion for mixture model selection.\"\" Pattern Recognition Letters 60 (2016): 22-27\"\tbici\thttps://www.sciencedirect.com/science/article/abs/pii/S016786551500344X\r",
      "\r\n",
      "2020-01-15\tCounterfactuals uncover the modular structure of deep generative models\tICLR\tDeep generative models such as Generative Adversarial Networks (GANs) and Variational Auto-Encoders (VAEs) are important tools to capture and investigate the properties of complex empirical data. However, the complexity of their inner elements makes their functioning challenging to assess and modify. In this respect, these architectures behave as black box models. In order to better understand the function of such networks, we analyze their modularity based on the counterfactual manipulation of their internal variables. Experiments with face images support that modularity between groups of channels is achieved to some degree within convolutional layers of vanilla VAE and GAN generators. This helps understand the functional organization of these systems and allows designing meaningful transformations of the generated images without further training.\t\"\"\"@article{besserve2018counterfactuals,\r\n",
      "  title={Counterfactuals uncover the modular structure of deep generative models},\r\n",
      "  author={Besserve, Michel and Sun, R{\\'e}my and Sch{\\\"\"o}lkopf, Bernhard},\r\n",
      "  journal={arXiv preprint arXiv:1812.03253},\r\n",
      "  year={2018}\r\n",
      "}\"\"\"\tcounterfactuals_gans\thttps://arxiv.org/pdf/1812.03253"
     ]
    }
   ],
   "source": [
    "!cat publications.tsv"
   ]
  },
  {
   "cell_type": "markdown",
   "metadata": {},
   "source": [
    "## Import pandas\n",
    "\n",
    "We are using the very handy pandas library for dataframes."
   ]
  },
  {
   "cell_type": "code",
   "execution_count": 171,
   "metadata": {
    "collapsed": true
   },
   "outputs": [],
   "source": [
    "import pandas as pd"
   ]
  },
  {
   "cell_type": "markdown",
   "metadata": {},
   "source": [
    "## Import TSV\n",
    "\n",
    "Pandas makes this easy with the read_csv function. We are using a TSV, so we specify the separator as a tab, or `\\t`.\n",
    "\n",
    "I found it important to put this data in a tab-separated values format, because there are a lot of commas in this kind of data and comma-separated values can get messed up. However, you can modify the import statement, as pandas also has read_excel(), read_json(), and others."
   ]
  },
  {
   "cell_type": "code",
   "execution_count": 172,
   "metadata": {},
   "outputs": [
    {
     "data": {
      "text/html": [
       "<div>\n",
       "<table border=\"1\" class=\"dataframe\">\n",
       "  <thead>\n",
       "    <tr style=\"text-align: right;\">\n",
       "      <th></th>\n",
       "      <th>pub_date</th>\n",
       "      <th>title</th>\n",
       "      <th>venue</th>\n",
       "      <th>excerpt</th>\n",
       "      <th>citation</th>\n",
       "      <th>url_slug</th>\n",
       "      <th>paper_url</th>\n",
       "    </tr>\n",
       "  </thead>\n",
       "  <tbody>\n",
       "    <tr>\n",
       "      <th>0</th>\n",
       "      <td>2013-02-13</td>\n",
       "      <td>Automatic malaria diagnosis system</td>\n",
       "      <td>ICRoM</td>\n",
       "      <td>Malaria Diagnosis is normally accomplished by ...</td>\n",
       "      <td>Mehrjou, Arash, Tooraj Abbasian, and Morteza I...</td>\n",
       "      <td>malaria</td>\n",
       "      <td>https://tinyurl.com/snnf62t</td>\n",
       "    </tr>\n",
       "    <tr>\n",
       "      <th>1</th>\n",
       "      <td>2019-10-22</td>\n",
       "      <td>Kernel-Guided Training of Implicit Generative ...</td>\n",
       "      <td>Arxiv</td>\n",
       "      <td>The modern implicit generative models such as ...</td>\n",
       "      <td>Mehrjou, Arash. (2009). &amp;quot;Kernel-Guided Tr...</td>\n",
       "      <td>glocad</td>\n",
       "      <td>https://arxiv.org/abs/1910.14428</td>\n",
       "    </tr>\n",
       "    <tr>\n",
       "      <th>2</th>\n",
       "      <td>2016-01-01</td>\n",
       "      <td>Improved Bayesian information criterion for mi...</td>\n",
       "      <td>Pattern Recognition Letters</td>\n",
       "      <td>In this paper, we propose a mixture model sele...</td>\n",
       "      <td>Mehrjou, Arash, Reshad Hosseini, and Babak Nad...</td>\n",
       "      <td>bici</td>\n",
       "      <td>https://www.sciencedirect.com/science/article/...</td>\n",
       "    </tr>\n",
       "    <tr>\n",
       "      <th>3</th>\n",
       "      <td>2020-01-15</td>\n",
       "      <td>Counterfactuals uncover the modular structure ...</td>\n",
       "      <td>ICLR</td>\n",
       "      <td>Deep generative models such as Generative Adve...</td>\n",
       "      <td>\"@article{besserve2018counterfactuals,\\n  titl...</td>\n",
       "      <td>counterfactuals_gans</td>\n",
       "      <td>https://arxiv.org/pdf/1812.03253</td>\n",
       "    </tr>\n",
       "  </tbody>\n",
       "</table>\n",
       "</div>"
      ],
      "text/plain": [
       "     pub_date                                              title  \\\n",
       "0  2013-02-13                 Automatic malaria diagnosis system   \n",
       "1  2019-10-22  Kernel-Guided Training of Implicit Generative ...   \n",
       "2  2016-01-01  Improved Bayesian information criterion for mi...   \n",
       "3  2020-01-15  Counterfactuals uncover the modular structure ...   \n",
       "\n",
       "                         venue  \\\n",
       "0                        ICRoM   \n",
       "1                        Arxiv   \n",
       "2  Pattern Recognition Letters   \n",
       "3                         ICLR   \n",
       "\n",
       "                                             excerpt  \\\n",
       "0  Malaria Diagnosis is normally accomplished by ...   \n",
       "1  The modern implicit generative models such as ...   \n",
       "2  In this paper, we propose a mixture model sele...   \n",
       "3  Deep generative models such as Generative Adve...   \n",
       "\n",
       "                                            citation              url_slug  \\\n",
       "0  Mehrjou, Arash, Tooraj Abbasian, and Morteza I...               malaria   \n",
       "1  Mehrjou, Arash. (2009). &quot;Kernel-Guided Tr...                glocad   \n",
       "2  Mehrjou, Arash, Reshad Hosseini, and Babak Nad...                  bici   \n",
       "3  \"@article{besserve2018counterfactuals,\\n  titl...  counterfactuals_gans   \n",
       "\n",
       "                                           paper_url  \n",
       "0                        https://tinyurl.com/snnf62t  \n",
       "1                   https://arxiv.org/abs/1910.14428  \n",
       "2  https://www.sciencedirect.com/science/article/...  \n",
       "3                   https://arxiv.org/pdf/1812.03253  "
      ]
     },
     "execution_count": 172,
     "metadata": {},
     "output_type": "execute_result"
    }
   ],
   "source": [
    "publications = pd.read_csv(\"publications.tsv\", sep=\"\\t\", header=0)\n",
    "publications\n"
   ]
  },
  {
   "cell_type": "markdown",
   "metadata": {},
   "source": [
    "## Escape special characters\n",
    "\n",
    "YAML is very picky about how it takes a valid string, so we are replacing single and double quotes (and ampersands) with their HTML encoded equivilents. This makes them look not so readable in raw format, but they are parsed and rendered nicely."
   ]
  },
  {
   "cell_type": "code",
   "execution_count": 173,
   "metadata": {
    "collapsed": true
   },
   "outputs": [],
   "source": [
    "html_escape_table = {\n",
    "    \"&\": \"&amp;\",\n",
    "    '\"': \"&quot;\",\n",
    "    \"'\": \"&apos;\"\n",
    "    }\n",
    "\n",
    "def html_escape(text):\n",
    "    \"\"\"Produce entities within text.\"\"\"\n",
    "    return \"\".join(html_escape_table.get(c,c) for c in text)"
   ]
  },
  {
   "cell_type": "markdown",
   "metadata": {},
   "source": [
    "## Creating the markdown files\n",
    "\n",
    "This is where the heavy lifting is done. This loops through all the rows in the TSV dataframe, then starts to concatentate a big string (```md```) that contains the markdown for each type. It does the YAML metadata first, then does the description for the individual page."
   ]
  },
  {
   "cell_type": "code",
   "execution_count": 174,
   "metadata": {},
   "outputs": [],
   "source": [
    "import os\n",
    "for row, item in publications.iterrows():\n",
    "    \n",
    "    md_filename = str(item.pub_date) + \"-\" + item.url_slug + \".md\"\n",
    "    html_filename = str(item.pub_date) + \"-\" + item.url_slug\n",
    "    year = item.pub_date[:4]\n",
    "    \n",
    "    ## YAML variables\n",
    "    \n",
    "    md = \"---\\ntitle: \\\"\"   + item.title + '\"\\n'\n",
    "    \n",
    "    md += \"\"\"collection: publications\"\"\"\n",
    "    \n",
    "    md += \"\"\"\\npermalink: /publication/\"\"\" + html_filename\n",
    "    \n",
    "    if len(str(item.excerpt)) > 5:\n",
    "        md += \"\\nexcerpt: '\" + html_escape(item.excerpt) + \"'\"\n",
    "    \n",
    "    md += \"\\ndate: \" + str(item.pub_date) \n",
    "    \n",
    "    md += \"\\nvenue: '\" + html_escape(item.venue) + \"'\"\n",
    "    \n",
    "    if len(str(item.paper_url)) > 5:\n",
    "        md += \"\\npaperurl: '\" + item.paper_url + \"'\"\n",
    "    \n",
    "    md += \"\\ncitation: '\" + html_escape(item.citation) + \"'\"\n",
    "    \n",
    "    md += \"\\n---\"\n",
    "    \n",
    "    ## Markdown description for individual page\n",
    "        \n",
    "    if len(str(item.excerpt)) > 5:\n",
    "        md += \"\\n\" + html_escape(item.excerpt) + \"\\n\"\n",
    "    \n",
    "    if len(str(item.paper_url)) > 5:\n",
    "        md += \"\\n[Download paper here](\" + item.paper_url + \")\\n\" \n",
    "        \n",
    "    md += \"\\nRecommended citation: \" + item.citation\n",
    "    \n",
    "    md_filename = os.path.basename(md_filename)\n",
    "       \n",
    "    with open(\"../_publications/\" + md_filename, 'w') as f:\n",
    "        f.write(md)"
   ]
  },
  {
   "cell_type": "markdown",
   "metadata": {},
   "source": [
    "These files are in the publications directory, one directory below where we're working from."
   ]
  },
  {
   "cell_type": "code",
   "execution_count": 175,
   "metadata": {},
   "outputs": [
    {
     "name": "stdout",
     "output_type": "stream",
     "text": [
      "2013-02-13-malaria.md              2019-10-22-glocad.md\r\n",
      "2016-01-01-bici.md                 2020-01-15-counterfactuals_gans.md\r\n"
     ]
    }
   ],
   "source": [
    "!ls ../_publications/"
   ]
  },
  {
   "cell_type": "code",
   "execution_count": 176,
   "metadata": {},
   "outputs": [
    {
     "name": "stdout",
     "output_type": "stream",
     "text": [
      "cat: ../_publications/2009-10-01-paper-title-number-1.md: No such file or directory\r\n"
     ]
    }
   ],
   "source": [
    "!cat ../_publications/2009-10-01-paper-title-number-1.md"
   ]
  },
  {
   "cell_type": "code",
   "execution_count": null,
   "metadata": {
    "collapsed": true
   },
   "outputs": [],
   "source": []
  },
  {
   "cell_type": "code",
   "execution_count": null,
   "metadata": {
    "collapsed": true
   },
   "outputs": [],
   "source": []
  },
  {
   "cell_type": "code",
   "execution_count": null,
   "metadata": {
    "collapsed": true
   },
   "outputs": [],
   "source": []
  }
 ],
 "metadata": {
  "kernelspec": {
   "display_name": "Python 3",
   "language": "python",
   "name": "python3"
  },
  "language_info": {
   "codemirror_mode": {
    "name": "ipython",
    "version": 3
   },
   "file_extension": ".py",
   "mimetype": "text/x-python",
   "name": "python",
   "nbconvert_exporter": "python",
   "pygments_lexer": "ipython3",
   "version": "3.5.1"
  }
 },
 "nbformat": 4,
 "nbformat_minor": 1
}
