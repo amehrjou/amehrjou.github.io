{
 "cells": [
  {
   "cell_type": "markdown",
   "metadata": {},
   "source": [
    "<img src=\"Brownian_motion.gif\">"
   ]
  },
  {
   "cell_type": "markdown",
   "metadata": {},
   "source": [
    "Brownian motion is the random, uncontrolled movement of particles in a fluid as they constantly collide with other molecules. Brownian motion has been well studied in mathematics and physics and its connections to other seemingly distant areas of mathematics is well established."
   ]
  },
  {
   "cell_type": "markdown",
   "metadata": {},
   "source": [
    "In this blog post, I am reviewing the basic concepts of Brownian motion from the perspective of a machine learning researcher."
   ]
  },
  {
   "cell_type": "markdown",
   "metadata": {},
   "source": [
    "## Definition of (one-dimensional) Brownian motion"
   ]
  },
  {
   "cell_type": "markdown",
   "metadata": {},
   "source": [
    "Definition1.1. _We say that the real-valued process $(B(t))_{t≥0}$ is a one-dimensional Brownianmotion started from $0$ if:_\n",
    "* $B(0) = 0$ almost  surely,  and  for  all $t≥0$,  the  law  of $B(t)$ is $\\mathcal{N}(0,t)$ (centered Gaussian with variance $t$)\n",
    "* For  all  positive  integerkand  all $0≤t_1< t_2<···< t_k$,  thekincrements $B(t_1)−B(0),B(t_2)−B(t_1),...,B(t_k)−B(t_{k−1})$ are independent random variables.\n",
    "* For each $t≥0$ and $h >0$, the law of $B(t+h)−B(t)$ is the same as the law of $B(h)−B(0)$.\n",
    "* There  exists  a  measurable  set $A$ with  probability $1$ , such that for all $\\omega\\in A$, the map $t\\to B(t)$ is continuous on $R_+$."
   ]
  },
  {
   "cell_type": "markdown",
   "metadata": {},
   "source": [
    "The first interesting thing about the Brownin motion is _its existence_. The proof is constructive and gives an iterative way to produce a Brownian motion on dyadic intervals and then extend it to continuous domain."
   ]
  },
  {
   "cell_type": "markdown",
   "metadata": {},
   "source": [
    "<img src=\"bm_iterative_construction.png\" alt=\"iterative_construction\" width=\"300\">"
   ]
  },
  {
   "cell_type": "markdown",
   "metadata": {},
   "source": [
    "## Connection to Harmonic Functions"
   ]
  },
  {
   "cell_type": "code",
   "execution_count": null,
   "metadata": {
    "collapsed": true
   },
   "outputs": [],
   "source": []
  }
 ],
 "metadata": {
  "kernelspec": {
   "display_name": "Python 3",
   "language": "python",
   "name": "python3"
  },
  "language_info": {
   "codemirror_mode": {
    "name": "ipython",
    "version": 3
   },
   "file_extension": ".py",
   "mimetype": "text/x-python",
   "name": "python",
   "nbconvert_exporter": "python",
   "pygments_lexer": "ipython3",
   "version": "3.5.1"
  }
 },
 "nbformat": 4,
 "nbformat_minor": 2
}
