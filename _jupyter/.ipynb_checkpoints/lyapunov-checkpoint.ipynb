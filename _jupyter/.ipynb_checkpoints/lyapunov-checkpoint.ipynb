{
 "cells": [
  {
   "cell_type": "markdown",
   "metadata": {},
   "source": [
    "This post is a tribute to Alexnadr Lyapunov whose work on dynamical systems provided novel insights in understanding nonlinear dynnamics."
   ]
  },
  {
   "cell_type": "markdown",
   "metadata": {},
   "source": [
    "<img src=\"Alexand_Lyapunov.jpg\">"
   ]
  },
  {
   "cell_type": "markdown",
   "metadata": {},
   "source": [
    "Lyapunov functions are scalar functions that may be used to prove the stability of an equilibrium of an ODE"
   ]
  },
  {
   "cell_type": "markdown",
   "metadata": {},
   "source": [
    "\\begin{equation}\n",
    "E = F \\cdot s \\label{test} \n",
    "\\end{equation}"
   ]
  },
  {
   "cell_type": "markdown",
   "metadata": {},
   "source": [
    "in the equation \\ref{test}"
   ]
  },
  {
   "cell_type": "markdown",
   "metadata": {},
   "source": [
    "Consider an autonomous nonlinear system of the form:\n",
    "\\begin{equation}\n",
    "\\dot{x}=f(x), \\quad x(0)=x_0 \\label{eq:auton_sys},\n",
    "$$\n",
    "where $f: \\mathbb{R}^n \\rightarrow \\mathbb{R}^n$ is called vector field."
   ]
  },
  {
   "cell_type": "markdown",
   "metadata": {},
   "source": [
    "The vector $\\bar{x} \\in \\mathbb{R}^n$ is an equilibrium point of~\\eqref{eq:auton_sys} if $f(\\bar{x})=0$.\n",
    "Let $\\phi(t,x_0)$ denote the associated flow, i.e. the solution of~\\eqref{eq:auton_sys} at time $t$ with initial condition $x_0$. The region of attraction (ROA) associated with $\\bar{x}$ is defined as:\n",
    "$$\n",
    "\\mathcal{R}_{\\bar{x}}:=\\big\\{x_0 \\in \\mathbb{R}^n: \\lim_{t\\to\\infty} \\phi(t,x_0)= \\bar{x}  \\big\\}.\n",
    "$$\n",
    "That is, $\\mathcal{R}_{\\bar{x}}$ is the set of all initial states that eventually converge to $\\bar{x}$."
   ]
  },
  {
   "cell_type": "code",
   "execution_count": null,
   "metadata": {
    "collapsed": true
   },
   "outputs": [],
   "source": []
  },
  {
   "cell_type": "code",
   "execution_count": null,
   "metadata": {
    "collapsed": true
   },
   "outputs": [],
   "source": []
  }
 ],
 "metadata": {
  "kernelspec": {
   "display_name": "Python 3",
   "language": "python",
   "name": "python3"
  },
  "language_info": {
   "codemirror_mode": {
    "name": "ipython",
    "version": 3
   },
   "file_extension": ".py",
   "mimetype": "text/x-python",
   "name": "python",
   "nbconvert_exporter": "python",
   "pygments_lexer": "ipython3",
   "version": "3.5.1"
  }
 },
 "nbformat": 4,
 "nbformat_minor": 2
}
